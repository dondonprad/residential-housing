{
 "cells": [
  {
   "cell_type": "code",
   "execution_count": 1,
   "metadata": {},
   "outputs": [],
   "source": [
    "import psycopg2\n",
    "import csv"
   ]
  },
  {
   "cell_type": "code",
   "execution_count": 4,
   "metadata": {},
   "outputs": [],
   "source": [
    "def insert_csv_to_table(conn, csv_file, table_name):\n",
    "    \"\"\"\n",
    "    Memasukkan data dari file CSV ke tabel PostgreSQL.\n",
    "\n",
    "    Args:\n",
    "        conn: Koneksi ke database PostgreSQL.\n",
    "        csv_file: Nama file CSV.\n",
    "        table_name: Nama tabel tujuan.\n",
    "    \"\"\"\n",
    "\n",
    "    with conn.cursor() as cur:\n",
    "        with open(csv_file, 'r') as csvfile:\n",
    "            csvreader = csv.reader(csvfile)\n",
    "            # Ambil header dari baris pertama CSV untuk membuat query INSERT\n",
    "            header = next(csvreader)\n",
    "            cols = ', '.join(header)\n",
    "            # Buat query INSERT dengan placeholder\n",
    "            insert_query = f\"\"\"INSERT INTO {table_name} ({cols}) VALUES ({','.join(['%s']*len(header))})\"\"\"\n",
    "\n",
    "            # Iterasi setiap baris data dan eksekusi query INSERT\n",
    "            for row in csvreader:\n",
    "                cur.execute(insert_query, row)\n",
    "            \n",
    "        conn.commit()\n"
   ]
  },
  {
   "cell_type": "code",
   "execution_count": 7,
   "metadata": {},
   "outputs": [],
   "source": [
    "conn = psycopg2.connect(database=\"sampleDB\",\n",
    "                        user='postgres',\n",
    "                        password='akudoni29',\n",
    "                        host='resident-db.c9e0qoe2scqz.ap-southeast-2.rds.amazonaws.com',\n",
    "                        port='5432')\n",
    "\n",
    "insert_csv_to_table(conn, csv_file='df_merchant_review.csv', table_name='merchant_review')\n",
    "\n",
    "conn.close()"
   ]
  },
  {
   "cell_type": "code",
   "execution_count": 6,
   "metadata": {},
   "outputs": [
    {
     "data": {
      "text/plain": [
       "[('name_merchant',\n",
       "  'merchant_id',\n",
       "  'group',\n",
       "  'rating',\n",
       "  'dist_ancol',\n",
       "  'dist_kemayoran',\n",
       "  'dist_darmawangsa',\n",
       "  'dist_menteng',\n",
       "  'dist_senayan',\n",
       "  'dist_thamrin'),\n",
       " ('Indomaret',\n",
       "  '00',\n",
       "  'grocery',\n",
       "  '4.3',\n",
       "  '1.3',\n",
       "  '0.8',\n",
       "  '1.2',\n",
       "  '0.8',\n",
       "  '1.8',\n",
       "  '0.3'),\n",
       " ('Alfamart',\n",
       "  '01',\n",
       "  'grocery',\n",
       "  '4.8',\n",
       "  '1.3',\n",
       "  '1.0',\n",
       "  '1.5',\n",
       "  '0.6',\n",
       "  '1.3',\n",
       "  '0.8'),\n",
       " ('Idolmart',\n",
       "  '02',\n",
       "  'grocery',\n",
       "  '4.4',\n",
       "  '1.2',\n",
       "  '1.5',\n",
       "  '1.4',\n",
       "  '0.3',\n",
       "  '1.4',\n",
       "  '0.2'),\n",
       " ('Superindo',\n",
       "  '03',\n",
       "  'grocery',\n",
       "  '4.2',\n",
       "  '1.4',\n",
       "  '0.9',\n",
       "  '1.2',\n",
       "  '0.8',\n",
       "  '1.2',\n",
       "  '0.4'),\n",
       " ('Mixue', '04', 'fnb', '4.4', '0.9', '0.5', '1.2', '0.4', '1.1', '0.6'),\n",
       " ('Haus', '05', 'fnb', '4.5', '0.6', '0.7', '1.8', '0.8', '1.9', '0.9'),\n",
       " ('Mie Gacoan', '06', 'fnb', '4.5', '1.2', '1.6', '0.7', '0.3', '0.8', '0.6'),\n",
       " ('Sederhana', '07', 'fnb', '4.8', '0.3', '1.6', '1.8', '0.9', '1.1', '0.2'),\n",
       " ('Fore Coffee', '08', 'fnb', '4.9', '0.5', '1.1', '1.3', '0.6', '1.3', '0.4'),\n",
       " ('Kopi Kenangan',\n",
       "  '09',\n",
       "  'fnb',\n",
       "  '4.7',\n",
       "  '1.1',\n",
       "  '0.8',\n",
       "  '1.6',\n",
       "  '0.6',\n",
       "  '1.2',\n",
       "  '0.5'),\n",
       " ('Ceria', '10', 'laundry', '4.2', '0.5', '1.1', '1.4', '0.9', '0.9', '1.1'),\n",
       " ('Si Bersih',\n",
       "  '11',\n",
       "  'laundry',\n",
       "  '4.4',\n",
       "  '1.0',\n",
       "  '0.9',\n",
       "  '0.8',\n",
       "  '0.5',\n",
       "  '1.9',\n",
       "  '0.2'),\n",
       " ('Miniso', '12', 'retail', '4.6', '0.8', '1.5', '1.7', '0.6', '1.7', '0.9'),\n",
       " ('Nice So', '13', 'retail', '4.3', '1.3', '1.2', '1.3', '0.7', '1.8', '0.9'),\n",
       " ('Intermedia',\n",
       "  '14',\n",
       "  'retail',\n",
       "  '4.8',\n",
       "  '0.6',\n",
       "  '1.1',\n",
       "  '0.8',\n",
       "  '0.6',\n",
       "  '1.8',\n",
       "  '1.1')]"
      ]
     },
     "execution_count": 6,
     "metadata": {},
     "output_type": "execute_result"
    }
   ],
   "source": [
    "with open('df_merchant.csv') as f:\n",
    "    data_info=[tuple(line) for line in csv.reader(f)]\n",
    "data_info"
   ]
  },
  {
   "cell_type": "code",
   "execution_count": null,
   "metadata": {},
   "outputs": [],
   "source": [
    "with open('df_resident_block.csv') as f:\n",
    "    data_block=[tuple(line) for line in csv.reader(f)]\n",
    "\n",
    "data_block"
   ]
  },
  {
   "cell_type": "code",
   "execution_count": null,
   "metadata": {},
   "outputs": [],
   "source": []
  }
 ],
 "metadata": {
  "kernelspec": {
   "display_name": "residential_housing",
   "language": "python",
   "name": "residential_housing"
  },
  "language_info": {
   "codemirror_mode": {
    "name": "ipython",
    "version": 3
   },
   "file_extension": ".py",
   "mimetype": "text/x-python",
   "name": "python",
   "nbconvert_exporter": "python",
   "pygments_lexer": "ipython3",
   "version": "3.9.0"
  }
 },
 "nbformat": 4,
 "nbformat_minor": 2
}
